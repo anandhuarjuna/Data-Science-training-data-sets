{
  "nbformat": 4,
  "nbformat_minor": 0,
  "metadata": {
    "colab": {
      "provenance": [],
      "authorship_tag": "ABX9TyNnc6VHZc/QyM6bXBOe4n9s",
      "include_colab_link": true
    },
    "kernelspec": {
      "name": "python3",
      "display_name": "Python 3"
    },
    "language_info": {
      "name": "python"
    }
  },
  "cells": [
    {
      "cell_type": "markdown",
      "metadata": {
        "id": "view-in-github",
        "colab_type": "text"
      },
      "source": [
        "<a href=\"https://colab.research.google.com/github/anandhuarjuna/project1/blob/main/Bank_Complaints_NLP%20Program.ipynb\" target=\"_parent\"><img src=\"https://colab.research.google.com/assets/colab-badge.svg\" alt=\"Open In Colab\"/></a>"
      ]
    },
    {
      "cell_type": "markdown",
      "source": [
        "**Load Data Set**"
      ],
      "metadata": {
        "id": "x2XsUCFBrsm8"
      }
    },
    {
      "cell_type": "code",
      "execution_count": 88,
      "metadata": {
        "id": "7aI8R_eJa-WZ"
      },
      "outputs": [],
      "source": [
        "from numpy import NaN\n",
        "import pandas as pd\n",
        "df=pd.read_csv('/content/complaints_processed.csv',nrows=3000)\n"
      ]
    },
    {
      "cell_type": "markdown",
      "source": [
        "**Drop irrelvant columns**"
      ],
      "metadata": {
        "id": "9a3KgSClr_71"
      }
    },
    {
      "cell_type": "code",
      "source": [
        "df = df.drop(df.columns[0], axis=1)"
      ],
      "metadata": {
        "id": "Gqo7wGk-r0Rc"
      },
      "execution_count": 89,
      "outputs": []
    },
    {
      "cell_type": "markdown",
      "source": [
        "**Check null values**"
      ],
      "metadata": {
        "id": "GjFsWd_gsGFK"
      }
    },
    {
      "cell_type": "code",
      "source": [
        "df.isna().sum()"
      ],
      "metadata": {
        "colab": {
          "base_uri": "https://localhost:8080/",
          "height": 0
        },
        "id": "7eQ_N9AlsPc_",
        "outputId": "b8cc2e44-03b9-4fb3-c376-626c9ce8064b"
      },
      "execution_count": 90,
      "outputs": [
        {
          "output_type": "execute_result",
          "data": {
            "text/plain": [
              "product      0\n",
              "narrative    1\n",
              "dtype: int64"
            ]
          },
          "metadata": {},
          "execution_count": 90
        }
      ]
    },
    {
      "cell_type": "markdown",
      "source": [
        "**Drop rows with null values**"
      ],
      "metadata": {
        "id": "3N2uUeRasiKV"
      }
    },
    {
      "cell_type": "code",
      "source": [
        "df=df[df['narrative'].notna()]\n",
        "df.isna().sum()"
      ],
      "metadata": {
        "colab": {
          "base_uri": "https://localhost:8080/",
          "height": 0
        },
        "id": "9SYvV9XAsiyZ",
        "outputId": "9237bbc2-73fc-48a7-c9e5-a749a4267da4"
      },
      "execution_count": 91,
      "outputs": [
        {
          "output_type": "execute_result",
          "data": {
            "text/plain": [
              "product      0\n",
              "narrative    0\n",
              "dtype: int64"
            ]
          },
          "metadata": {},
          "execution_count": 91
        }
      ]
    },
    {
      "cell_type": "markdown",
      "source": [
        "**Countplot of feature labels**"
      ],
      "metadata": {
        "id": "tOwqrw1Ms3XL"
      }
    },
    {
      "cell_type": "code",
      "source": [
        "import warnings\n",
        "warnings.filterwarnings('ignore')\n",
        "df['product'].value_counts()\n",
        "import matplotlib.pyplot as plt\n",
        "plt.figure(figsize=(9,9))\n",
        "import seaborn as sns\n",
        "sns.countplot(df['product'])"
      ],
      "metadata": {
        "colab": {
          "base_uri": "https://localhost:8080/",
          "height": 569
        },
        "id": "4auCNDgQszTK",
        "outputId": "86adbfca-2751-4926-f218-af19d1ef0d89"
      },
      "execution_count": 92,
      "outputs": [
        {
          "output_type": "execute_result",
          "data": {
            "text/plain": [
              "<matplotlib.axes._subplots.AxesSubplot at 0x7f963c366b50>"
            ]
          },
          "metadata": {},
          "execution_count": 92
        },
        {
          "output_type": "display_data",
          "data": {
            "text/plain": [
              "<Figure size 648x648 with 1 Axes>"
            ],
            "image/png": "[encoded data removed]"
          },
          "metadata": {
            "needs_background": "light"
          }
        }
      ]
    },
    {
      "cell_type": "markdown",
      "source": [
        "**Remap labels**\n",
        "**from objects to integers**"
      ],
      "metadata": {
        "id": "lB_EH5hFszG2"
      }
    },
    {
      "cell_type": "code",
      "source": [
        "df['product']=df['product'].map({'credit_card':0,'retail_banking':1,'credit_reporting':2,'mortgages_and_loans':3,'debt_collection':4})\n",
        "df['product'].value_counts()"
      ],
      "metadata": {
        "colab": {
          "base_uri": "https://localhost:8080/",
          "height": 0
        },
        "id": "J103Yzw-tRQp",
        "outputId": "670b94ac-578f-4bf9-8494-238981b60756"
      },
      "execution_count": 93,
      "outputs": [
        {
          "output_type": "execute_result",
          "data": {
            "text/plain": [
              "2    1627\n",
              "4     570\n",
              "3     289\n",
              "0     278\n",
              "1     235\n",
              "Name: product, dtype: int64"
            ]
          },
          "metadata": {},
          "execution_count": 93
        }
      ]
    },
    {
      "cell_type": "markdown",
      "source": [
        "**Remove special characters**"
      ],
      "metadata": {
        "id": "jZp2kYljt1cU"
      }
    },
    {
      "cell_type": "code",
      "source": [
        "message=df.narrative\n",
        "message=message.str.replace('[^a-zA-Z0-9]+',' ')\n",
        "message"
      ],
      "metadata": {
        "colab": {
          "base_uri": "https://localhost:8080/",
          "height": 0
        },
        "id": "DwEI4ZlZj0jS",
        "outputId": "67b4e131-b4d6-4127-cb52-f5fd712d9423"
      },
      "execution_count": 94,
      "outputs": [
        {
          "output_type": "execute_result",
          "data": {
            "text/plain": [
              "0       purchase order day shipping amount receive pro...\n",
              "1       forwarded message date tue subject please inve...\n",
              "2       forwarded message cc sent friday pdt subject f...\n",
              "3       payment history missing credit report speciali...\n",
              "4       payment history missing credit report made mis...\n",
              "                              ...                        \n",
              "2995    account name account numberxxxx account type c...\n",
              "2996    account name account number reason failed veri...\n",
              "2997    account name original creditor status collecti...\n",
              "2998    account name account numberxxxx account type c...\n",
              "2999    account name account namestate farm bank accou...\n",
              "Name: narrative, Length: 2999, dtype: object"
            ]
          },
          "metadata": {},
          "execution_count": 94
        }
      ]
    },
    {
      "cell_type": "markdown",
      "source": [
        "**Tokenize** **-->** **stem** **-->** **lowercase** **-->** **join the words**"
      ],
      "metadata": {
        "id": "YXhRh-2juQxq"
      }
    },
    {
      "cell_type": "code",
      "source": [
        "import nltk\n",
        "from nltk.stem import SnowballStemmer\n",
        "from nltk.tokenize import TweetTokenizer\n",
        "tk=TweetTokenizer()\n",
        "stem=SnowballStemmer('english')\n",
        "message=message.apply(lambda x:[stem.stem(i.lower()) for i in tk.tokenize(x)]).apply(lambda x:' '.join(x))\n",
        "message"
      ],
      "metadata": {
        "colab": {
          "base_uri": "https://localhost:8080/",
          "height": 0
        },
        "id": "a_4aoAWZkyJN",
        "outputId": "5775c7a8-4595-4876-d3ab-273f27dca0ed"
      },
      "execution_count": 95,
      "outputs": [
        {
          "output_type": "execute_result",
          "data": {
            "text/plain": [
              "0       purchas order day ship amount receiv product w...\n",
              "1       forward messag date tue subject pleas investig...\n",
              "2       forward messag cc sent friday pdt subject fina...\n",
              "3       payment histori miss credit report special loa...\n",
              "4       payment histori miss credit report made mistak...\n",
              "                              ...                        \n",
              "2995    account name account numberxxxx account type c...\n",
              "2996    account name account number reason fail verifi...\n",
              "2997    account name origin creditor status collect ac...\n",
              "2998    account name account numberxxxx account type c...\n",
              "2999    account name account namest farm bank account ...\n",
              "Name: narrative, Length: 2999, dtype: object"
            ]
          },
          "metadata": {},
          "execution_count": 95
        }
      ]
    },
    {
      "cell_type": "markdown",
      "source": [
        "**fit & Transform**"
      ],
      "metadata": {
        "id": "tIv82YilvHXP"
      }
    },
    {
      "cell_type": "code",
      "source": [
        "from sklearn.feature_extraction.text import TfidfVectorizer\n",
        "vect=TfidfVectorizer()\n",
        "train_vec=vect.fit_transform(message)\n",
        "print(train_vec)"
      ],
      "metadata": {
        "colab": {
          "base_uri": "https://localhost:8080/",
          "height": 0
        },
        "id": "Ok67oTstnjP4",
        "outputId": "5a27f1a0-b94b-4dc5-b608-f709a99cec1c"
      },
      "execution_count": 96,
      "outputs": [
        {
          "output_type": "stream",
          "name": "stdout",
          "text": [
            "  (0, 261)\t0.03145306185252639\n",
            "  (0, 2720)\t0.02704952269989653\n",
            "  (0, 3779)\t0.05950618268420057\n",
            "  (0, 3139)\t0.05950618268420057\n",
            "  (0, 103)\t0.044067533658794796\n",
            "  (0, 2045)\t0.06522326976512727\n",
            "  (0, 104)\t0.06856755132082676\n",
            "  (0, 520)\t0.0284200630194463\n",
            "  (0, 3415)\t0.07087509878555535\n",
            "  (0, 689)\t0.11123702921684842\n",
            "  (0, 694)\t0.022655527984966756\n",
            "  (0, 781)\t0.02432820403233156\n",
            "  (0, 1838)\t0.09192213335853189\n",
            "  (0, 4315)\t0.13284533943901608\n",
            "  (0, 2944)\t0.06547957390018924\n",
            "  (0, 4627)\t0.03529308136612153\n",
            "  (0, 4827)\t0.03597764105264088\n",
            "  (0, 4504)\t0.02442535489851529\n",
            "  (0, 1465)\t0.02546552388078634\n",
            "  (0, 714)\t0.1271208856401543\n",
            "  (0, 4691)\t0.03306756570457268\n",
            "  (0, 4415)\t0.023363169246372485\n",
            "  (0, 1966)\t0.025443381550226535\n",
            "  (0, 3983)\t0.12201994657526437\n",
            "  (0, 4687)\t0.0687842456634632\n",
            "  :\t:\n",
            "  (2998, 57)\t0.18653289449571084\n",
            "  (2998, 3868)\t0.027289917219063212\n",
            "  (2998, 1138)\t0.03470545775130207\n",
            "  (2998, 3214)\t0.07744957431161295\n",
            "  (2998, 438)\t0.10300857633595792\n",
            "  (2998, 2624)\t0.08063133035760622\n",
            "  (2998, 4315)\t0.065604459970339\n",
            "  (2998, 714)\t0.09416623596195439\n",
            "  (2998, 276)\t0.04600222649807095\n",
            "  (2998, 5088)\t0.03471532133467979\n",
            "  (2998, 97)\t0.0310976993770764\n",
            "  (2998, 3244)\t0.035320506839975264\n",
            "  (2998, 3333)\t0.043444764989330746\n",
            "  (2998, 1425)\t0.03251311995905314\n",
            "  (2998, 2657)\t0.07417566747465075\n",
            "  (2998, 4173)\t0.02734597061267396\n",
            "  (2998, 3677)\t0.03255607121023382\n",
            "  (2998, 1202)\t0.029607626332483566\n",
            "  (2998, 3659)\t0.0827504418898557\n",
            "  (2998, 4881)\t0.04164379479744037\n",
            "  (2998, 2525)\t0.06658880867470798\n",
            "  (2998, 4205)\t0.09124066468609442\n",
            "  (2998, 928)\t0.0988605057804725\n",
            "  (2998, 3997)\t0.02886979953061118\n",
            "  (2998, 3889)\t0.046666499729399784\n"
          ]
        }
      ]
    },
    {
      "cell_type": "markdown",
      "source": [
        "**Feature & Target**"
      ],
      "metadata": {
        "id": "VMWbJCOHvXrn"
      }
    },
    {
      "cell_type": "code",
      "source": [
        "X=train_vec\n",
        "y=df['product'].values"
      ],
      "metadata": {
        "id": "3fiHzKHXn94v"
      },
      "execution_count": 97,
      "outputs": []
    },
    {
      "cell_type": "markdown",
      "source": [
        "**Train Test Split**"
      ],
      "metadata": {
        "id": "O5EIjT_hvh9L"
      }
    },
    {
      "cell_type": "code",
      "source": [
        "from sklearn.model_selection import train_test_split\n",
        "X_train,X_test,y_train,y_test=train_test_split(X,y,test_size=.3,random_state=1)"
      ],
      "metadata": {
        "id": "JyQwNaDkoL8H"
      },
      "execution_count": 98,
      "outputs": []
    },
    {
      "cell_type": "markdown",
      "source": [
        "**Classifiers** : SVC, MultinomialNB, RandomForestClassifier & AdaBoostClassifier"
      ],
      "metadata": {
        "id": "4BtjTJrrvoEZ"
      }
    },
    {
      "cell_type": "code",
      "source": [
        "from sklearn.svm import SVC\n",
        "from sklearn.naive_bayes import MultinomialNB\n",
        "from sklearn.ensemble import RandomForestClassifier,AdaBoostClassifier\n",
        "svc=SVC()\n",
        "mb=MultinomialNB()\n",
        "rf=RandomForestClassifier()\n",
        "ab=AdaBoostClassifier()\n"
      ],
      "metadata": {
        "id": "uiG74Cc1oZsT"
      },
      "execution_count": 99,
      "outputs": []
    },
    {
      "cell_type": "markdown",
      "source": [
        "**Classification report**, **ConfusionMatrix** **&** **Predcition**"
      ],
      "metadata": {
        "id": "_51HdISvwfD1"
      }
    },
    {
      "cell_type": "code",
      "source": [
        "lst=[svc,mb,rf,ab]\n",
        "from sklearn.metrics import classification_report,ConfusionMatrixDisplay\n",
        "for i in lst:\n",
        "  i.fit(X_train,y_train)\n",
        "  y_pred=i.predict(X_test)\n",
        "  y_sent=i.predict(vect.transform(['yes disputing sending publish government website also including copy driver license utility mail keep reporting updated also included copy ftc sent identity dealing issue sometime experian told identity driver license social security card found brother passed away last year document irs showing identity theft affidvat showing investigated proved identity theft letter explain see reported police tell wrong person neighborhood also wrote said fill applicant get car also attached letter mail came back return sender sent certified letter return receipt experian inquiring fair credit reporting act section required federal law verify physical verification original signed consumer contract fcra unverified account must removed credit bureau able verified proof unable provide copy verifiable proof item must removed listed attached letter sent requiring experian said verified respond yet item deleted deleted deleted experian put back without proof deleted month ago none bureau creditor collection given proof ask letter attached law item deleted proof given also veteran total check go child veteran adminstration trying get flat rent item credit report causing lot damage please help veteran']))\n",
        "  print('Predicting sentence')\n",
        "  if y_sent==[0]:\n",
        "    print('credit_card')\n",
        "  elif y_sent==[1]:\n",
        "    print('retail_banking')\n",
        "  elif y_sent==[2]:\n",
        "    print('credit_reporting')\n",
        "  elif y_sent==[3]:\n",
        "    print('mortgages_and_loans')\n",
        "  elif y_sent==[4]:\n",
        "    print('debt_collection')\n",
        "  else:\n",
        "    print('doesnot belongs to any')\n",
        "  print('*****************************')\n",
        "  print(classification_report(y_test,y_pred))\n",
        "  print('*****************************')\n",
        "  print(ConfusionMatrixDisplay.from_predictions(y_test,y_pred))\n"
      ],
      "metadata": {
        "colab": {
          "base_uri": "https://localhost:8080/",
          "height": 0
        },
        "id": "uqV8uen2wfr7",
        "outputId": "d6fdcb30-cdf1-4711-a2d4-e872f73d21d4"
      },
      "execution_count": null,
      "outputs": [
        {
          "output_type": "stream",
          "name": "stdout",
          "text": [
            "Predicting sentence\n",
            "credit_reporting\n",
            "*****************************\n",
            "              precision    recall  f1-score   support\n",
            "\n",
            "           0       0.77      0.58      0.66        88\n",
            "           1       0.79      0.74      0.76        70\n",
            "           2       0.85      0.96      0.91       485\n",
            "           3       0.88      0.79      0.84        77\n",
            "           4       0.88      0.74      0.80       180\n",
            "\n",
            "    accuracy                           0.85       900\n",
            "   macro avg       0.83      0.76      0.79       900\n",
            "weighted avg       0.85      0.85      0.84       900\n",
            "\n",
            "*****************************\n",
            "<sklearn.metrics._plot.confusion_matrix.ConfusionMatrixDisplay object at 0x7f963b274280>\n",
            "Predicting sentence\n",
            "credit_reporting\n",
            "*****************************\n",
            "              precision    recall  f1-score   support\n",
            "\n",
            "           0       1.00      0.02      0.04        88\n",
            "           1       1.00      0.01      0.03        70\n",
            "           2       0.56      1.00      0.72       485\n",
            "           3       1.00      0.05      0.10        77\n",
            "           4       0.81      0.14      0.24       180\n",
            "\n",
            "    accuracy                           0.57       900\n",
            "   macro avg       0.87      0.25      0.23       900\n",
            "weighted avg       0.73      0.57      0.45       900\n",
            "\n",
            "*****************************\n",
            "<sklearn.metrics._plot.confusion_matrix.ConfusionMatrixDisplay object at 0x7f9639f26550>\n",
            "Predicting sentence\n",
            "credit_reporting\n",
            "*****************************\n",
            "              precision    recall  f1-score   support\n",
            "\n",
            "           0       0.77      0.45      0.57        88\n",
            "           1       0.80      0.73      0.76        70\n",
            "           2       0.79      0.98      0.88       485\n",
            "           3       0.84      0.66      0.74        77\n",
            "           4       0.88      0.63      0.73       180\n",
            "\n",
            "    accuracy                           0.81       900\n",
            "   macro avg       0.82      0.69      0.74       900\n",
            "weighted avg       0.81      0.81      0.80       900\n",
            "\n",
            "*****************************\n",
            "<sklearn.metrics._plot.confusion_matrix.ConfusionMatrixDisplay object at 0x7f963b274280>\n",
            "Predicting sentence\n",
            "credit_reporting\n",
            "*****************************\n",
            "              precision    recall  f1-score   support\n",
            "\n",
            "           0       0.58      0.52      0.55        88\n",
            "           1       0.79      0.53      0.63        70\n",
            "           2       0.79      0.89      0.84       485\n",
            "           3       0.69      0.74      0.71        77\n",
            "           4       0.70      0.54      0.61       180\n",
            "\n",
            "    accuracy                           0.75       900\n",
            "   macro avg       0.71      0.65      0.67       900\n",
            "weighted avg       0.74      0.75      0.74       900\n",
            "\n",
            "*****************************\n",
            "<sklearn.metrics._plot.confusion_matrix.ConfusionMatrixDisplay object at 0x7f963b782d00>\n"
          ]
        }
      ]
    }
  ]
}